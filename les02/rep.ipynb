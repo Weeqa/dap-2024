{
  "nbformat": 4,
  "nbformat_minor": 0,
  "metadata": {
    "colab": {
      "provenance": [],
      "authorship_tag": "ABX9TyPpkJkFcIiPv02kwVdH83vr",
      "include_colab_link": true
    },
    "kernelspec": {
      "name": "python3",
      "display_name": "Python 3"
    },
    "language_info": {
      "name": "python"
    }
  },
  "cells": [
    {
      "cell_type": "markdown",
      "metadata": {
        "id": "view-in-github",
        "colab_type": "text"
      },
      "source": [
        "<a href=\"https://colab.research.google.com/github/Weeqa/dap-2024/blob/main/les02/rep.ipynb\" target=\"_parent\"><img src=\"https://colab.research.google.com/assets/colab-badge.svg\" alt=\"Open In Colab\"/></a>"
      ]
    },
    {
      "cell_type": "markdown",
      "source": [
        "#Лабораторная работа №2"
      ],
      "metadata": {
        "id": "GxO1GVkVnAK1"
      }
    },
    {
      "cell_type": "markdown",
      "source": [
        "**Цель работы**:"
      ],
      "metadata": {
        "id": "VljL6ZWRnL0Y"
      }
    },
    {
      "cell_type": "markdown",
      "source": [
        "**Задание 1. Сумма двух**"
      ],
      "metadata": {
        "id": "Di36-KCMnkKa"
      }
    },
    {
      "cell_type": "code",
      "source": [
        "class Solution(object):\n",
        "    def twoSum(self, nums, target):\n",
        "        for index1, value1 in enumerate(nums):\n",
        "            for index2, value2 in enumerate(nums[(index1+1):]):\n",
        "                print(index1, index2)\n",
        "                if value1+value2 == target:\n",
        "                    return [index1, index1+index2+1]\n",
        "                break\n",
        "        return []\n",
        "\n",
        "sol = Solution()\n",
        "print(\"Индексы чисел:\", sol.twoSum([2, 7, 11, 15], 9))\n",
        "print(\"Индексы чисел:\", sol.twoSum([3, 2, 4], 6))\n",
        "print(\"Индексы чисел:\", sol.twoSum([3, 3], 6))\n",
        "print(\"Индексы чисел:\", sol.twoSum([3, 0], 6))"
      ],
      "metadata": {
        "colab": {
          "base_uri": "https://localhost:8080/"
        },
        "id": "4xyHDQFDnjT2",
        "outputId": "16db9c33-89ed-4104-e079-69146f44466a"
      },
      "execution_count": null,
      "outputs": [
        {
          "output_type": "stream",
          "name": "stdout",
          "text": [
            "0 0\n",
            "Индексы чисел: [0, 1]\n",
            "0 0\n",
            "1 0\n",
            "Индексы чисел: [1, 2]\n",
            "0 0\n",
            "Индексы чисел: [0, 1]\n",
            "0 0\n",
            "Индексы чисел: []\n"
          ]
        }
      ]
    },
    {
      "cell_type": "markdown",
      "source": [
        "**Задание 2. Число палиндрома**"
      ],
      "metadata": {
        "id": "QJIYDrUHpP1v"
      }
    },
    {
      "cell_type": "code",
      "source": [
        "class Solution(object):\n",
        "    def isPalindrome(self, x):\n",
        "        num_str = str(x)\n",
        "        isPal = False\n",
        "        reversed_num_str = ''.join(reversed(num_str))\n",
        "        if reversed_num_str == num_str:\n",
        "            isPal = True\n",
        "        return isPal\n",
        "\n",
        "sol = Solution()\n",
        "print(sol.isPalindrome(121))\n",
        "print(sol.isPalindrome(-121))\n",
        "print(sol.isPalindrome(12))"
      ],
      "metadata": {
        "colab": {
          "base_uri": "https://localhost:8080/"
        },
        "id": "UlHfzysTuZ1k",
        "outputId": "939c56f9-9b6e-4896-dc0a-8a4e89561469"
      },
      "execution_count": null,
      "outputs": [
        {
          "output_type": "stream",
          "name": "stdout",
          "text": [
            "True\n",
            "False\n",
            "False\n"
          ]
        }
      ]
    },
    {
      "cell_type": "markdown",
      "source": [
        "**Задание 3. Roman to Integer**"
      ],
      "metadata": {
        "id": "DpG4C4Og2KRO"
      }
    },
    {
      "cell_type": "markdown",
      "source": [],
      "metadata": {
        "id": "wnsON0DmT085"
      }
    },
    {
      "cell_type": "code",
      "source": [
        "class Solution(object):\n",
        "    def romanToInt(self, s):\n",
        "        listRoman = list(s)\n",
        "        number = 0\n",
        "        length = len(listRoman)\n",
        "        index = 0\n",
        "\n",
        "        while index < length:\n",
        "            value = listRoman[index]\n",
        "\n",
        "            if value == \"I\":\n",
        "                if index + 1 < length and listRoman[index + 1] == \"V\":\n",
        "                    number += 4\n",
        "                    index += 2  # Перепрыгиваем через следующий символ\n",
        "                elif index + 1 < length and listRoman[index + 1] == \"X\":\n",
        "                    number += 9\n",
        "                    index += 2\n",
        "                else:\n",
        "                    number += 1\n",
        "                    index += 1\n",
        "\n",
        "            elif value == \"V\":\n",
        "                number += 5\n",
        "                index += 1\n",
        "\n",
        "            elif value == \"X\":\n",
        "                if index + 1 < length and listRoman[index + 1] == \"L\":\n",
        "                    number += 40\n",
        "                    index += 2\n",
        "                elif index + 1 < length and listRoman[index + 1] == \"C\":\n",
        "                    number += 90\n",
        "                    index += 2\n",
        "                else:\n",
        "                    number += 10\n",
        "                    index += 1\n",
        "\n",
        "            elif value == \"L\":\n",
        "                number += 50\n",
        "                index += 1\n",
        "\n",
        "            elif value == \"C\":\n",
        "                if index + 1 < length and listRoman[index + 1] == \"D\":\n",
        "                    number += 400\n",
        "                    index += 2\n",
        "                elif index + 1 < length and listRoman[index + 1] == \"M\":\n",
        "                    number += 900\n",
        "                    index += 2\n",
        "                else:\n",
        "                    number += 100\n",
        "                    index += 1\n",
        "\n",
        "            elif value == \"D\":\n",
        "                number += 500\n",
        "                index += 1\n",
        "\n",
        "            elif value == \"M\":\n",
        "                number += 1000\n",
        "                index += 1\n",
        "\n",
        "        return number\n",
        "\n",
        "solution = Solution()\n",
        "print(solution.romanToInt(\"III\"))  # Вывод: 3\n",
        "print(solution.romanToInt(\"LVIII\"))  # Вывод: 58\n",
        "print(solution.romanToInt(\"MCMXCIV\"))  # Вывод: 1994\n"
      ],
      "metadata": {
        "colab": {
          "base_uri": "https://localhost:8080/"
        },
        "id": "TzhLnGT5Td_y",
        "outputId": "2df588f4-6197-4490-8552-3e79118bb227"
      },
      "execution_count": null,
      "outputs": [
        {
          "output_type": "stream",
          "name": "stdout",
          "text": [
            "3\n",
            "58\n",
            "1994\n"
          ]
        }
      ]
    },
    {
      "cell_type": "markdown",
      "source": [
        "**Задание 4. Longest Common Prefix**\n",
        "Общий префикс"
      ],
      "metadata": {
        "id": "ZLcjsZwPUPIV"
      }
    },
    {
      "cell_type": "code",
      "source": [
        "class Solution(object):\n",
        "    def longestCommonPrefix(self, strs):\n",
        "        if not strs:\n",
        "            return \"\"\n",
        "        prefix = strs[0]\n",
        "        for string in strs[1:]:\n",
        "            while not string.startswith(prefix):\n",
        "                prefix = prefix[:-1]\n",
        "                if not prefix:\n",
        "                    return \"\"\n",
        "        return prefix\n",
        "solution = Solution()\n",
        "print(solution.longestCommonPrefix([\"flower\",\"flight\",\"flow\"]))  # Вывод: fl\n",
        "print(solution.longestCommonPrefix([\"dog\",\"racecar\",\"car\"]))  # Вывод: \"\"\n"
      ],
      "metadata": {
        "colab": {
          "base_uri": "https://localhost:8080/"
        },
        "id": "Dihi8lUSB8vy",
        "outputId": "69bb8c6d-6c7e-4049-a2ae-fc2e765f300c"
      },
      "execution_count": 3,
      "outputs": [
        {
          "output_type": "stream",
          "name": "stdout",
          "text": [
            "fl\n",
            "\n"
          ]
        }
      ]
    },
    {
      "cell_type": "markdown",
      "source": [
        "Задача № 5"
      ],
      "metadata": {
        "id": "qG_4FybMDK0f"
      }
    },
    {
      "cell_type": "code",
      "source": [
        "class ListNode(object):\n",
        "    def __init__(self, val=0, next=None):\n",
        "        self.val = val\n",
        "        self.next = next\n",
        "\n",
        "class Solution(object):\n",
        "    def mergeTwoLists(self, list1, list2):\n",
        "        dummy = ListNode()\n",
        "        current = dummy\n",
        "        while list1 and list2:\n",
        "            if list1.val < list2.val:\n",
        "                current.next = list1\n",
        "                list1 = list1.next\n",
        "            else:\n",
        "                current.next = list2\n",
        "                list2 = list2.next\n",
        "            current = current.next\n",
        "        if list1:\n",
        "            current.next = list1\n",
        "        else:\n",
        "            current.next = list2\n",
        "        return dummy.next"
      ],
      "metadata": {
        "id": "3amV0E85GLvq"
      },
      "execution_count": 13,
      "outputs": []
    },
    {
      "cell_type": "markdown",
      "source": [
        "Задача № 6"
      ],
      "metadata": {
        "id": "YXhWE365JE_s"
      }
    },
    {
      "cell_type": "code",
      "source": [
        "class Solution(object):\n",
        "    def lengthOfLongestSubstring(self, s):\n",
        "        current_substring = \"\"\n",
        "        max_length = 0\n",
        "\n",
        "        for char in s:\n",
        "            if char in current_substring:\n",
        "                current_substring = current_substring[current_substring.index(char) + 1:]\n",
        "\n",
        "            current_substring += char\n",
        "            max_length = max(max_length, len(current_substring))\n",
        "\n",
        "        return max_length\n",
        "solution = Solution()\n",
        "print(solution.lengthOfLongestSubstring(\"abcabcbb\"))  # Вывод: 3\n",
        "print(solution.lengthOfLongestSubstring(\"ppppp\"))  # Вывод: 1\n",
        "print(solution.lengthOfLongestSubstring(\"pwwkew\"))  # Вывод: 3"
      ],
      "metadata": {
        "colab": {
          "base_uri": "https://localhost:8080/"
        },
        "id": "bjqUGVLsJD7V",
        "outputId": "2fb21dd0-0b41-4416-bc9e-d2c2e5ac7624"
      },
      "execution_count": 10,
      "outputs": [
        {
          "output_type": "stream",
          "name": "stdout",
          "text": [
            "3\n",
            "1\n",
            "3\n"
          ]
        }
      ]
    }
  ]
}